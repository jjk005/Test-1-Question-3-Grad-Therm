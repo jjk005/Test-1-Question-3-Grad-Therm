{
 "cells": [
  {
   "cell_type": "markdown",
   "metadata": {},
   "source": [
    "Question 3, Exam 1 of Graduate Thermodynamics and Statistical Mechanics <br>\n",
    "James Kostal <br>\n",
    "a. To begin I will calculate and plot PA(EA)"
   ]
  },
  {
   "cell_type": "code",
   "execution_count": 1,
   "metadata": {},
   "outputs": [
    {
     "name": "stdout",
     "output_type": "stream",
     "text": [
      "The multiplicites of A are [1.0, 4.0, 10.0, 20.0, 35.0, 56.0, 84.0, 120.0, 165.0, 220.0, 286.0, 364.0, 455.0]\n",
      "The multiplicites of B are [455.0, 364.0, 286.0, 220.0, 165.0, 120.0, 84.0, 56.0, 35.0, 20.0, 10.0, 4.0, 1.0]\n"
     ]
    }
   ],
   "source": [
    "import math\n",
    "import numpy as np\n",
    "import matplotlib.pyplot as plt\n",
    "\n",
    "NA = 4\n",
    "NB = 4\n",
    "Ntot = NA + NB\n",
    "EA = 10\n",
    "EB = 2\n",
    "Etot = EA + EB\n",
    "omegaAtot=[]\n",
    "omegaBtot=[]\n",
    "E = 0\n",
    "#first find all multiplicities of A\n",
    "for E in range(E,Etot+1):\n",
    "    omegaA = math.factorial(E+NA-1)/(math.factorial(E)*math.factorial(NA-1))\n",
    "    omegaAtot.append(omegaA)\n",
    "    #next steps find multiplicites of B\n",
    "    omegaB = math.factorial(Etot-E+NB-1)/(math.factorial(Etot-E)*math.factorial(NB-1))\n",
    "    omegaBtot.append(omegaB)\n",
    "print(\"The multiplicites of A are\",omegaAtot)\n",
    "print(\"The multiplicites of B are\",omegaBtot)"
   ]
  },
  {
   "cell_type": "markdown",
   "metadata": {},
   "source": [
    "The indiviudal columns of the list correlate to a row in the sample table, but now need the total multiplicity to find PA"
   ]
  },
  {
   "cell_type": "code",
   "execution_count": 2,
   "metadata": {},
   "outputs": [
    {
     "name": "stdout",
     "output_type": "stream",
     "text": [
      "OmegaA times OmegaB of each macrostate is [ 455. 1456. 2860. 4400. 5775. 6720. 7056. 6720. 5775. 4400. 2860. 1456.\n",
      "  455.]\n",
      "The total multiplicity is 50388.0\n",
      "PA for each macrostate is\n",
      "[0.00902993 0.02889577 0.05675955 0.08732238 0.11461062 0.13336509\n",
      " 0.14003334 0.13336509 0.11461062 0.08732238 0.05675955 0.02889577\n",
      " 0.00902993]\n"
     ]
    },
    {
     "data": {
      "image/png": "[encoded data removed]",
      "text/plain": [
       "<Figure size 432x288 with 1 Axes>"
      ]
     },
     "metadata": {
      "needs_background": "light"
     },
     "output_type": "display_data"
    }
   ],
   "source": [
    "omegacombined = np.multiply(omegaAtot, omegaBtot)\n",
    "print(\"OmegaA times OmegaB of each macrostate is\",omegacombined)\n",
    "omegatot = sum(omegacombined)\n",
    "print(\"The total multiplicity is\",omegatot)\n",
    "PA = []\n",
    "PA = omegacombined/omegatot\n",
    "print(\"PA for each macrostate is\")\n",
    "print(PA)\n",
    "#plotting PA vs EA\n",
    "plt.plot(PA,color='r')\n",
    "plt.ylabel('PA')\n",
    "plt.xlabel('EA')\n",
    "plt.title('Probability versus Energy')\n",
    "plt.show()"
   ]
  },
  {
   "cell_type": "markdown",
   "metadata": {},
   "source": [
    "Code for part d"
   ]
  },
  {
   "cell_type": "code",
   "execution_count": 3,
   "metadata": {},
   "outputs": [
    {
     "name": "stdout",
     "output_type": "stream",
     "text": [
      "The average energy of A is 6.0\n",
      "The variance of A is 2.5819888974716108\n",
      "The variance of B is 2.5819888974716108\n",
      "The variance of A divided by the mean energy of A is\n",
      "0.4303314829119351\n"
     ]
    }
   ],
   "source": [
    "Etemp1=[]\n",
    "Etemp2=[]\n",
    "for i in range(len(PA)):\n",
    "    Etemp1.append(PA[i]*i) #multiplying the individual probabilities by the energy associated with them\n",
    "for i in range(len(PA)):\n",
    "    Etemp2.append((PA[i]*(i**2))) #taking the square of the individual energies\n",
    "\n",
    "EAmean=sum(Etemp1)\n",
    "EAmeansquared=sum(Etemp2)\n",
    "squareofmeanA = EAmean**2\n",
    "varianceA = math.sqrt(EAmeansquared - squareofmeanA)\n",
    "\n",
    "PB=[]\n",
    "PB = omegacombined/omegatot\n",
    "Etemp3 = []\n",
    "Etemp4 = []\n",
    "for i in range(len(PB)):\n",
    "    Etemp3.append(PB[i]*i) #multiplying the individual probabilities by the energy associated with them\n",
    "for i in range(len(PB)):\n",
    "    Etemp4.append((PB[i]*(i**2))) #taking the square of the individual energies\n",
    "    \n",
    "EBmean=sum(Etemp3)\n",
    "EBmeansquared=sum(Etemp4)\n",
    "squareofmeanB = EBmean**2\n",
    "varianceB = math.sqrt(EBmeansquared - squareofmeanB)\n",
    "\n",
    "\n",
    "\n",
    "print(\"The average energy of A is\", EAmean)\n",
    "print(\"The variance of A is\", varianceA)\n",
    "print(\"The variance of B is\", varianceB)\n",
    "print(\"The variance of A divided by the mean energy of A is\")\n",
    "print(varianceA/EAmean)"
   ]
  },
  {
   "cell_type": "markdown",
   "metadata": {},
   "source": [
    "Run the program for larger N to see how the qualitative nature of the system changes. <br>"
   ]
  },
  {
   "cell_type": "code",
   "execution_count": 4,
   "metadata": {},
   "outputs": [
    {
     "name": "stdout",
     "output_type": "stream",
     "text": [
      "The multiplicites of A are [1.0, 40000.0, 800020000.0, 10667466680000.0, 1.0668266740001e+17, 8.53546685334e+20, 5.691022524464445e+24, 3.2525006730532082e+28, 1.6265349303354965e+32, 7.230489943651394e+35, 2.8928467215554856e+39, 1.052207248449409e+43, 3.508322018142442e+46]\n",
      "The multiplicites of B are [3.508322018142442e+46, 1.052207248449409e+43, 2.8928467215554856e+39, 7.230489943651394e+35, 1.6265349303354965e+32, 3.2525006730532082e+28, 5.691022524464445e+24, 8.53546685334e+20, 1.0668266740001e+17, 10667466680000.0, 800020000.0, 40000.0, 1.0]\n"
     ]
    }
   ],
   "source": [
    "import math\n",
    "import numpy as np\n",
    "import matplotlib.pyplot as plt\n",
    "\n",
    "NA = 40000\n",
    "NB = 40000\n",
    "Ntot = NA + NB\n",
    "EA = 10\n",
    "EB = 2\n",
    "Etot = EA + EB\n",
    "omegaAtot=[]\n",
    "omegaBtot=[]\n",
    "E = 0\n",
    "#first find all multiplicities of A\n",
    "for E in range(E,Etot+1):\n",
    "    omegaA = math.factorial(E+NA-1)/(math.factorial(E)*math.factorial(NA-1))\n",
    "    omegaAtot.append(omegaA)\n",
    "    #next steps find multiplicites of B\n",
    "    omegaB = math.factorial(Etot-E+NB-1)/(math.factorial(Etot-E)*math.factorial(NB-1))\n",
    "    omegaBtot.append(omegaB)\n",
    "print(\"The multiplicites of A are\",omegaAtot)\n",
    "print(\"The multiplicites of B are\",omegaBtot)\n",
    "\n",
    "\n"
   ]
  },
  {
   "cell_type": "code",
   "execution_count": 5,
   "metadata": {},
   "outputs": [
    {
     "name": "stdout",
     "output_type": "stream",
     "text": [
      "OmegaA times OmegaB of each macrostate is [3.50832202e+46 4.20882899e+47 2.31433523e+48 7.71310106e+48\n",
      " 1.73523085e+49 2.77616117e+49 3.23877374e+49 2.77616117e+49\n",
      " 1.73523085e+49 7.71310106e+48 2.31433523e+48 4.20882899e+47\n",
      " 3.50832202e+46]\n",
      "The total multiplicity is 1.4358238256035637e+50\n",
      "PA for each macrostate is\n",
      "[0.00024434 0.0029313  0.01611852 0.05371899 0.12085263 0.19334971\n",
      " 0.22556902 0.19334971 0.12085263 0.05371899 0.01611852 0.0029313\n",
      " 0.00024434]\n"
     ]
    },
    {
     "data": {
      "image/png": "[encoded data removed]",
      "text/plain": [
       "<Figure size 432x288 with 1 Axes>"
      ]
     },
     "metadata": {
      "needs_background": "light"
     },
     "output_type": "display_data"
    }
   ],
   "source": [
    "omegacombined = np.multiply(omegaAtot, omegaBtot)\n",
    "print(\"OmegaA times OmegaB of each macrostate is\",omegacombined)\n",
    "omegatot = sum(omegacombined)\n",
    "print(\"The total multiplicity is\",omegatot)\n",
    "PA = []\n",
    "PA = omegacombined/omegatot\n",
    "print(\"PA for each macrostate is\")\n",
    "print(PA)\n",
    "#plotting PA vs EA\n",
    "plt.plot(PA,color='r')\n",
    "plt.ylabel('PA')\n",
    "plt.xlabel('EA')\n",
    "plt.title('Probability versus Energy')\n",
    "plt.show()"
   ]
  },
  {
   "cell_type": "code",
   "execution_count": 6,
   "metadata": {},
   "outputs": [
    {
     "name": "stdout",
     "output_type": "stream",
     "text": [
      "The average energy of A is 6.000000000000001\n",
      "The variance of A is 1.7321698804804937\n",
      "The variance of B is 1.7321698804804937\n",
      "The variance of A divided by the mean energy of A is\n",
      "0.28869498008008226\n"
     ]
    }
   ],
   "source": [
    "\n",
    "Etemp1=[]\n",
    "Etemp2=[]\n",
    "for i in range(len(PA)):\n",
    "    Etemp1.append(PA[i]*i) #multiplying the individual probabilities by the energy associated with them\n",
    "for i in range(len(PA)):\n",
    "    Etemp2.append((PA[i]*(i**2))) #taking the square of the individual energies\n",
    "\n",
    "EAmean=sum(Etemp1)\n",
    "EAmeansquared=sum(Etemp2)\n",
    "squareofmeanA = EAmean**2\n",
    "varianceA = math.sqrt(EAmeansquared - squareofmeanA)\n",
    "PB=[]\n",
    "PB = omegacombined/omegatot\n",
    "Etemp3 = []\n",
    "Etemp4 = []\n",
    "for i in range(len(PB)):\n",
    "    Etemp3.append(PB[i]*i) #multiplying the individual probabilities by the energy associated with them\n",
    "for i in range(len(PB)):\n",
    "    Etemp4.append((PB[i]*(i**2))) #taking the square of the individual energies\n",
    "    \n",
    "EBmean=sum(Etemp3)\n",
    "EBmeansquared=sum(Etemp4)\n",
    "squareofmeanB = EBmean**2\n",
    "varianceB = math.sqrt(EBmeansquared - squareofmeanB)\n",
    "\n",
    "\n",
    "\n",
    "print(\"The average energy of A is\", EAmean)\n",
    "print(\"The variance of A is\", varianceA)\n",
    "print(\"The variance of B is\", varianceB)\n",
    "print(\"The variance of A divided by the mean energy of A is\")\n",
    "print(varianceA/EAmean)"
   ]
  },
  {
   "cell_type": "code",
   "execution_count": null,
   "metadata": {},
   "outputs": [],
   "source": []
  }
 ],
 "metadata": {
  "kernelspec": {
   "display_name": "Python 3",
   "language": "python",
   "name": "python3"
  },
  "language_info": {
   "codemirror_mode": {
    "name": "ipython",
    "version": 3
   },
   "file_extension": ".py",
   "mimetype": "text/x-python",
   "name": "python",
   "nbconvert_exporter": "python",
   "pygments_lexer": "ipython3",
   "version": "3.7.4"
  }
 },
 "nbformat": 4,
 "nbformat_minor": 2
}
